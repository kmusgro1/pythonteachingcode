{
 "cells": [
  {
   "cell_type": "markdown",
   "metadata": {},
   "source": [
    "# 1-7.2 Intro Python Practice\n",
    "## `while()` loops & increments\n",
    "<font size=\"5\" color=\"#00A0B2\"  face=\"verdana\"> <B>Student will be able to</B></font>\n",
    "- create forever loops using `while` and `break`\n",
    "- use incrementing variables in a while loop\n",
    "- control while loops using Boolean operators"
   ]
  },
  {
   "cell_type": "code",
   "execution_count": 18,
   "metadata": {},
   "outputs": [
    {
     "name": "stdout",
     "output_type": "stream",
     "text": [
      "Add this: b\n",
      "0\n"
     ]
    }
   ],
   "source": [
    "# [ ] use a \"forever\" while loop to get user input of integers to add to sum, \n",
    "# until a non-digit is entered, then break the loop and print sum\n",
    "sum = 0\n",
    "#sum needs to be outside the loop or it will continue to get set to 0 each time\n",
    "while True: #forever\n",
    "    add = input(\"Add this: \")#put inside loop so it will reset each loop\n",
    "    if add.isalpha(): #put false statement first so it will break befre loop starts\n",
    "        break; #goes to print sum\n",
    "    elif add.isdigit():\n",
    "        sum = sum + int(add)\n",
    "    else:\n",
    "        print(\"Add integer\")\n",
    "\n",
    "print(sum)#outside loop so it happens when loop is broken"
   ]
  },
  {
   "cell_type": "code",
   "execution_count": 26,
   "metadata": {},
   "outputs": [
    {
     "name": "stdout",
     "output_type": "stream",
     "text": [
      "enter color: mfewk\n",
      "enter color: cekwq\n",
      "enter color: ciewq\n",
      "enter color: ckoiekqpok\n"
     ]
    }
   ],
   "source": [
    "# [ ] use a while True loop (forever loop) to give 4 chances for input of a correct color in a rainbow\n",
    "rainbow = \"red orange yellow green blue indigo violet\"\n",
    "chances = 1 #when I use 0 it gives 5 chances?\n",
    "while True:\n",
    "    color = input(\"enter color: \")\n",
    "    if color in rainbow:\n",
    "        print(\"correct\")\n",
    "        break\n",
    "    else:\n",
    "        chances = chances + 1\n",
    "    \n",
    "    if chances <= 4:\n",
    "        pass\n",
    "    else:\n",
    "        break\n",
    "\n",
    "\n"
   ]
  },
  {
   "cell_type": "code",
   "execution_count": 29,
   "metadata": {},
   "outputs": [
    {
     "name": "stdout",
     "output_type": "stream",
     "text": [
      "Enter in title form: cat in the hat\n",
      "Try again!\n",
      "Enter in title form: Cat In The Hat\n"
     ]
    }
   ],
   "source": [
    "# [ ] Get input for a book title, keep looping while input is Not in title format (title is every word capitalized)\n",
    "title = \"\"\n",
    "while True:\n",
    "    title = input(\"Enter in title form: \")\n",
    "    if title.istitle():\n",
    "        break\n",
    "    else:\n",
    "        print(\"Try again!\")\n",
    "    \n",
    "\n"
   ]
  },
  {
   "cell_type": "code",
   "execution_count": 30,
   "metadata": {},
   "outputs": [
    {
     "name": "stdout",
     "output_type": "stream",
     "text": [
      "1 + 1 = 3\n",
      "try again\n",
      "1 + 1 = 5\n",
      "try again\n",
      "1 + 1 = 13\n",
      "try again\n",
      "1 + 1 = 2\n",
      "correct\n"
     ]
    }
   ],
   "source": [
    "# [ ] create a math quiz question and ask for the solution until the input is correct\n",
    "answer = 2\n",
    "\n",
    "while True:\n",
    "    question = input(\"1 + 1 = \")\n",
    "    if int(question) == answer:\n",
    "        print(\"correct\")\n",
    "        break\n",
    "    else:\n",
    "        print(\"try again\")\n",
    " "
   ]
  },
  {
   "cell_type": "markdown",
   "metadata": {},
   "source": [
    "### Fix the Error"
   ]
  },
  {
   "cell_type": "code",
   "execution_count": 33,
   "metadata": {},
   "outputs": [
    {
     "name": "stdout",
     "output_type": "stream",
     "text": [
      "enter tickets remaining (0 to quit): 6\n",
      "you win!\n",
      "enter tickets remaining (0 to quit): 7\n",
      "you win!\n",
      "enter tickets remaining (0 to quit): 0\n",
      "Game ended\n"
     ]
    }
   ],
   "source": [
    "# [ ] review the code, run, fix the error\n",
    "tickets = input(\"enter tickets remaining (0 to quit): \")\n",
    "\n",
    "while int(tickets) > 0:\n",
    "        # if tickets are multiple of 3 then \"winner\"\n",
    "    if int(tickets)/3 == int(tickets)/3:\n",
    "        print(\"you win!\")\n",
    "    else:\n",
    "        print(\"sorry, not a winner.\")\n",
    "    tickets = int(input(\"enter tickets remaining (0 to quit): \"))\n",
    "\n",
    "print(\"Game ended\")\n",
    "    \n"
   ]
  },
  {
   "cell_type": "markdown",
   "metadata": {},
   "source": [
    "### create a function: quiz_item()  that asks a question and tests if input is correct  \n",
    "- quiz_item()has 2 parameter **strings**: question and solution  \n",
    "- shows question, gets answer input  \n",
    "- returns True if `answer == solution` or continues to ask question until correct answer is provided  \n",
    "- use a while loop\n",
    "\n",
    "create 2 or more quiz questions that call quiz_item()  \n",
    "**Hint**: provide multiple choice or T/F answers"
   ]
  },
  {
   "cell_type": "code",
   "execution_count": null,
   "metadata": {},
   "outputs": [
    {
     "name": "stdout",
     "output_type": "stream",
     "text": [
      "The sky is blue. t/f : \n",
      "f\n",
      "false\n",
      "try again\n",
      "The sky is blue. t/f : \n",
      "t\n",
      "True\n",
      "try again\n"
     ]
    }
   ],
   "source": [
    "# Create quiz_item() and 2 or more quiz questions that call quiz_item()\n",
    "def quiz_item(question,solution):\n",
    "    if question.lower() == solution.lower():\n",
    "        print(\"True\")\n",
    "    else:\n",
    "        print(\"false\")\n",
    "    \n",
    "while True:\n",
    "    answer1=input(\"The sky is blue. t/f : \\n\")\n",
    "    solution1=\"t\"\n",
    "    if quiz_item(answer1,solution1):\n",
    "        print(\"good job\")\n",
    "        break\n",
    "    else:\n",
    "        print(\"try again\")\n",
    "\n",
    "    \n",
    "answer2=input(\"The sky is___. \\na)Blue \\nb)green: \\n\")\n",
    "solution2=\"a\"\n",
    "\n",
    "quiz_item(answer1,solution1)\n",
    "quiz_item(answer2,solution2)\n",
    "\n"
   ]
  },
  {
   "cell_type": "markdown",
   "metadata": {
    "collapsed": true
   },
   "source": [
    "[Terms of use](http://go.microsoft.com/fwlink/?LinkID=206977) &nbsp; [Privacy & cookies](https://go.microsoft.com/fwlink/?LinkId=521839) &nbsp; © 2017 Microsoft"
   ]
  }
 ],
 "metadata": {
  "anaconda-cloud": {},
  "kernelspec": {
   "display_name": "Python 3",
   "language": "python",
   "name": "python3"
  },
  "language_info": {
   "codemirror_mode": {
    "name": "ipython",
    "version": 3
   },
   "file_extension": ".py",
   "mimetype": "text/x-python",
   "name": "python",
   "nbconvert_exporter": "python",
   "pygments_lexer": "ipython3",
   "version": "3.8.3"
  }
 },
 "nbformat": 4,
 "nbformat_minor": 1
}
